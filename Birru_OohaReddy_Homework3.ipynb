{
 "cells": [
  {
   "cell_type": "markdown",
   "id": "4f10c40d",
   "metadata": {},
   "source": [
    "## DATA 690 Homework 3 (60 points - Due on Tuesday, March 5th by 11:59 pm ET)\n",
    "\n",
    "The output of this assignment for submission should be in PDF format **AND** .py or .ipynb. \n",
    "\n",
    "The name of the file should be as follows: \n",
    "\n",
    "    Lastname_Firstname_Homework3.pdf (example: Thomas_Sunela_Homework3.pdf)\n",
    "   **AND** \n",
    "   \n",
    "    Lastname_Firstname_Homework3.ipynb (example: Thomas_Sunela_Assignment3.ipynb) \n",
    "    \n",
    "In short, you are submitting the python notebook as well as the pdf of that notebook. \n",
    "Do **NOT** submit .html file, the system will give you an error.\n",
    "\n",
    "    \n",
    "**Incorrect file name will cost you points!<br>**\n",
    "\n",
    "Instructions for converting a Jupyter Python notebook to PDF: \n",
    "                                        \n",
    "    Go to the menu and choose, File --> Download As --> html. \n",
    "    Open that html file and print it to PDF. \n",
    "    Submit the PDF file **NOT** the html file.\n",
    "\n",
    "If you are using Google Colab, remember to review the PDF before submitting to ensure that all cells and answers are displayed in the PDF.\n",
    "\n",
    "**Things to note:**\n",
    "\n",
    "* Each cell should display an output\n",
    "* Use only the Python concepts and methods taught thus far\n",
    "* Well formatted output\n",
    "* Use both Markdown and code comments in the Jupyter Notebook as needed\n",
    "\n",
    "\n"
   ]
  },
  {
   "cell_type": "markdown",
   "id": "31e22e75",
   "metadata": {},
   "source": [
    "# `tips`\n",
    "\n",
    "Food servers' tips in restaurants may be influenced by many factors, including the nature of the restaurant, size of the party, and table locations in the restaurant. Restaurant managers need to know which factors matter when they assign tables to food servers. For the sake of staff morale, they usually want to avoid either the substance or the appearance of unfair treatment of the servers, for whom tips (at least in restaurants in the United States) are a major component of pay.\n",
    "\n",
    "In one restaurant, a food server recorded the following data on all customers they served during an interval of two and a half months in early 1990. The restaurant, located in a suburban shopping mall, was part of a national chain and served a varied menu. In observance of local law the restaurant offered seating in a non-smoking section to patrons who requested it. Each record includes a day and time, and taken together, they show the server’s work schedule.\n",
    "\n",
    "A complete description of the variables and their meanings is available in the data dictionary table below:\n",
    "\n",
    "|obs  | Observation number |\n",
    "|---  |---                 |\n",
    "| total_bill | Total bill (cost of the meal), including tax, in US dollars |\n",
    "| tip | Tip (gratuity) in US dollars |\n",
    "| sex | Sex of person paying for the meal (0=male, 1=female) |\n",
    "| smoker | Smoker in party? (0=No, 1=Yes) |\n",
    "| day | Day of Week (4=Thur, 5=Fri, 6=Sat, 7=Sun) |\n",
    "| time | Dinner, Lunch |\n",
    "|size  | Size of the party |"
   ]
  },
  {
   "cell_type": "markdown",
   "id": "b6bf859e",
   "metadata": {},
   "source": [
    "### Exercise 1: (1 points)\n",
    "<span  style=\"color:purple; font-size:16px\">Read in `tips.csv` data.</span>"
   ]
  },
  {
   "cell_type": "code",
   "execution_count": 2,
   "id": "f655bfe9",
   "metadata": {},
   "outputs": [
    {
     "data": {
      "text/html": [
       "<div>\n",
       "<style scoped>\n",
       "    .dataframe tbody tr th:only-of-type {\n",
       "        vertical-align: middle;\n",
       "    }\n",
       "\n",
       "    .dataframe tbody tr th {\n",
       "        vertical-align: top;\n",
       "    }\n",
       "\n",
       "    .dataframe thead th {\n",
       "        text-align: right;\n",
       "    }\n",
       "</style>\n",
       "<table border=\"1\" class=\"dataframe\">\n",
       "  <thead>\n",
       "    <tr style=\"text-align: right;\">\n",
       "      <th></th>\n",
       "      <th>total_bill</th>\n",
       "      <th>tip</th>\n",
       "      <th>sex</th>\n",
       "      <th>smoker</th>\n",
       "      <th>day</th>\n",
       "      <th>time</th>\n",
       "      <th>size</th>\n",
       "    </tr>\n",
       "  </thead>\n",
       "  <tbody>\n",
       "    <tr>\n",
       "      <th>0</th>\n",
       "      <td>16.99</td>\n",
       "      <td>1.01</td>\n",
       "      <td>0</td>\n",
       "      <td>0</td>\n",
       "      <td>7</td>\n",
       "      <td>Dinner</td>\n",
       "      <td>2</td>\n",
       "    </tr>\n",
       "    <tr>\n",
       "      <th>1</th>\n",
       "      <td>10.34</td>\n",
       "      <td>1.66</td>\n",
       "      <td>1</td>\n",
       "      <td>0</td>\n",
       "      <td>7</td>\n",
       "      <td>Dinner</td>\n",
       "      <td>3</td>\n",
       "    </tr>\n",
       "    <tr>\n",
       "      <th>2</th>\n",
       "      <td>21.01</td>\n",
       "      <td>3.50</td>\n",
       "      <td>1</td>\n",
       "      <td>0</td>\n",
       "      <td>7</td>\n",
       "      <td>Dinner</td>\n",
       "      <td>3</td>\n",
       "    </tr>\n",
       "    <tr>\n",
       "      <th>3</th>\n",
       "      <td>23.68</td>\n",
       "      <td>3.31</td>\n",
       "      <td>1</td>\n",
       "      <td>0</td>\n",
       "      <td>7</td>\n",
       "      <td>Dinner</td>\n",
       "      <td>2</td>\n",
       "    </tr>\n",
       "    <tr>\n",
       "      <th>4</th>\n",
       "      <td>24.59</td>\n",
       "      <td>3.61</td>\n",
       "      <td>0</td>\n",
       "      <td>0</td>\n",
       "      <td>7</td>\n",
       "      <td>Dinner</td>\n",
       "      <td>4</td>\n",
       "    </tr>\n",
       "    <tr>\n",
       "      <th>...</th>\n",
       "      <td>...</td>\n",
       "      <td>...</td>\n",
       "      <td>...</td>\n",
       "      <td>...</td>\n",
       "      <td>...</td>\n",
       "      <td>...</td>\n",
       "      <td>...</td>\n",
       "    </tr>\n",
       "    <tr>\n",
       "      <th>239</th>\n",
       "      <td>29.03</td>\n",
       "      <td>5.92</td>\n",
       "      <td>1</td>\n",
       "      <td>0</td>\n",
       "      <td>6</td>\n",
       "      <td>Dinner</td>\n",
       "      <td>3</td>\n",
       "    </tr>\n",
       "    <tr>\n",
       "      <th>240</th>\n",
       "      <td>27.18</td>\n",
       "      <td>2.00</td>\n",
       "      <td>0</td>\n",
       "      <td>1</td>\n",
       "      <td>6</td>\n",
       "      <td>Dinner</td>\n",
       "      <td>2</td>\n",
       "    </tr>\n",
       "    <tr>\n",
       "      <th>241</th>\n",
       "      <td>22.67</td>\n",
       "      <td>2.00</td>\n",
       "      <td>1</td>\n",
       "      <td>1</td>\n",
       "      <td>6</td>\n",
       "      <td>Dinner</td>\n",
       "      <td>2</td>\n",
       "    </tr>\n",
       "    <tr>\n",
       "      <th>242</th>\n",
       "      <td>17.82</td>\n",
       "      <td>1.75</td>\n",
       "      <td>1</td>\n",
       "      <td>0</td>\n",
       "      <td>6</td>\n",
       "      <td>Dinner</td>\n",
       "      <td>2</td>\n",
       "    </tr>\n",
       "    <tr>\n",
       "      <th>243</th>\n",
       "      <td>18.78</td>\n",
       "      <td>3.00</td>\n",
       "      <td>0</td>\n",
       "      <td>0</td>\n",
       "      <td>4</td>\n",
       "      <td>Dinner</td>\n",
       "      <td>2</td>\n",
       "    </tr>\n",
       "  </tbody>\n",
       "</table>\n",
       "<p>244 rows × 7 columns</p>\n",
       "</div>"
      ],
      "text/plain": [
       "     total_bill   tip  sex  smoker  day    time  size\n",
       "0         16.99  1.01    0       0    7  Dinner     2\n",
       "1         10.34  1.66    1       0    7  Dinner     3\n",
       "2         21.01  3.50    1       0    7  Dinner     3\n",
       "3         23.68  3.31    1       0    7  Dinner     2\n",
       "4         24.59  3.61    0       0    7  Dinner     4\n",
       "..          ...   ...  ...     ...  ...     ...   ...\n",
       "239       29.03  5.92    1       0    6  Dinner     3\n",
       "240       27.18  2.00    0       1    6  Dinner     2\n",
       "241       22.67  2.00    1       1    6  Dinner     2\n",
       "242       17.82  1.75    1       0    6  Dinner     2\n",
       "243       18.78  3.00    0       0    4  Dinner     2\n",
       "\n",
       "[244 rows x 7 columns]"
      ]
     },
     "execution_count": 2,
     "metadata": {},
     "output_type": "execute_result"
    }
   ],
   "source": [
    "# Exercise Answer\n",
    "import pandas as pd\n",
    "\n",
    "# Defining the path to CSV file\n",
    "file_path = 'tips.csv'\n",
    "\n",
    "# Reading the CSV file using pandas\n",
    "tips = pd.read_csv(file_path)\n",
    "tips"
   ]
  },
  {
   "cell_type": "markdown",
   "id": "4bc221dd",
   "metadata": {},
   "source": [
    "### Exercise 2: (2 points)\n",
    "<span  style=\"color:purple; font-size:16px\">Determine the number of rows and columns in the data. What does each row in the data represent?</span>"
   ]
  },
  {
   "cell_type": "code",
   "execution_count": 3,
   "id": "4569acf0",
   "metadata": {},
   "outputs": [
    {
     "name": "stdout",
     "output_type": "stream",
     "text": [
      "Number of rows: 244\n",
      "Number of columns: 7\n",
      "   total_bill   tip  sex  smoker  day    time  size\n",
      "0       16.99  1.01    0       0    7  Dinner     2\n",
      "1       10.34  1.66    1       0    7  Dinner     3\n",
      "2       21.01  3.50    1       0    7  Dinner     3\n",
      "3       23.68  3.31    1       0    7  Dinner     2\n",
      "4       24.59  3.61    0       0    7  Dinner     4\n"
     ]
    }
   ],
   "source": [
    "# Exercise Answer\n",
    "# Getting the number of rows and columns\n",
    "num_rows, num_cols = tips.shape\n",
    "\n",
    "# Printing the number of rows and columns\n",
    "print(\"Number of rows:\", num_rows)\n",
    "print(\"Number of columns:\", num_cols)\n",
    "\n",
    "print(tips.head())"
   ]
  },
  {
   "cell_type": "markdown",
   "id": "3e9c8e97",
   "metadata": {},
   "source": [
    "Each row in the data represent the total_bill, tip, sex, smoker, day, time and size."
   ]
  },
  {
   "cell_type": "markdown",
   "id": "51e03c97",
   "metadata": {},
   "source": [
    "### Exercise 3: (3 points)\n",
    "<span  style=\"color:purple; font-size:16px\">Determine if there are any missing values in the data.</span>"
   ]
  },
  {
   "cell_type": "code",
   "execution_count": 4,
   "id": "100d8052",
   "metadata": {},
   "outputs": [
    {
     "name": "stdout",
     "output_type": "stream",
     "text": [
      "Missing values in each column:\n",
      "total_bill    0\n",
      "tip           0\n",
      "sex           0\n",
      "smoker        0\n",
      "day           0\n",
      "time          0\n",
      "size          0\n",
      "dtype: int64\n"
     ]
    }
   ],
   "source": [
    "# Exercise Answer\n",
    "# Checking for missing values in each column\n",
    "missing_values = tips.isna().sum()\n",
    "\n",
    "# Print the count of missing values for each column\n",
    "print(\"Missing values in each column:\")\n",
    "print(missing_values)\n"
   ]
  },
  {
   "cell_type": "markdown",
   "id": "9ee47139",
   "metadata": {},
   "source": [
    "There are no missing values in the data"
   ]
  },
  {
   "cell_type": "markdown",
   "id": "d6c27027",
   "metadata": {},
   "source": [
    "### Exercise 4: (5 points)\n",
    "<span  style=\"color:purple; font-size:16px\">The column names are not very descriptive. Use the `.rename()` method to rename the columns.</span>\n",
    "\n",
    "Rename the columns as follows:\n",
    "+ `tip` to `tip_amount`\n",
    "+ `day` to `day_of_week`\n",
    "+ `size` to `party_size`\n"
   ]
  },
  {
   "cell_type": "code",
   "execution_count": 5,
   "id": "759af5ee",
   "metadata": {},
   "outputs": [
    {
     "name": "stdout",
     "output_type": "stream",
     "text": [
      "   total_bill  tip_amount  sex  smoker  day_of_week    time  party_size\n",
      "0       16.99        1.01    0       0            7  Dinner           2\n",
      "1       10.34        1.66    1       0            7  Dinner           3\n",
      "2       21.01        3.50    1       0            7  Dinner           3\n",
      "3       23.68        3.31    1       0            7  Dinner           2\n",
      "4       24.59        3.61    0       0            7  Dinner           4\n"
     ]
    }
   ],
   "source": [
    "# Exercise Answer\n",
    "# Renaming the columns\n",
    "tips = tips.rename(columns={'tip': 'tip_amount', 'day': 'day_of_week', 'size': 'party_size'})\n",
    "\n",
    "# Printing the data using head()\n",
    "print(tips.head())\n"
   ]
  },
  {
   "cell_type": "markdown",
   "id": "ffa80af7",
   "metadata": {},
   "source": [
    "### Exercise 5: (5 points)\n",
    "<span  style=\"color:purple; font-size:16px\">Extract the index using tips.index(). What type of index do you find? Is there a sensical column to use for the index? Why or why not?</span>"
   ]
  },
  {
   "cell_type": "code",
   "execution_count": 6,
   "id": "7d799b93",
   "metadata": {},
   "outputs": [
    {
     "name": "stdout",
     "output_type": "stream",
     "text": [
      "Type of index: <class 'pandas.core.indexes.range.RangeIndex'>\n",
      "Index: RangeIndex(start=0, stop=244, step=1)\n"
     ]
    }
   ],
   "source": [
    "# Exercise Answer\n",
    "# Extracting the index\n",
    "index = tips.index\n",
    "\n",
    "# Printing the type of index\n",
    "print(\"Type of index:\", type(index))\n",
    "\n",
    "# Print the index\n",
    "print(\"Index:\", index)\n"
   ]
  },
  {
   "cell_type": "markdown",
   "id": "ca79fab9",
   "metadata": {},
   "source": [
    "There is no sensical column to use for the index in this dataset.\n",
    "\n",
    "If the dataset contained a column with unique identifiers for each bill (such as a bill ID), it could be a sensical choice for the index."
   ]
  },
  {
   "cell_type": "markdown",
   "id": "d0e47029",
   "metadata": {},
   "source": [
    "### Exercise 6: (5 points)\n",
    "<span  style=\"color:purple; font-size:16px\">Recode the `sex`, `smoker`, and `day_of_week` variables to the coding in the data dictionary description table at the top of the notebook. For example: recode `day_of_week` from the numeric representation (4, 5, 6, 7) to the ('Thur', 'Fri', 'Sat', 'Sun'). </span>"
   ]
  },
  {
   "cell_type": "code",
   "execution_count": 7,
   "id": "9f30a737",
   "metadata": {},
   "outputs": [
    {
     "name": "stdout",
     "output_type": "stream",
     "text": [
      "     total_bill  tip_amount     sex smoker day_of_week    time  party_size\n",
      "0         16.99        1.01    Male     No         Sun  Dinner           2\n",
      "1         10.34        1.66  Female     No         Sun  Dinner           3\n",
      "2         21.01        3.50  Female     No         Sun  Dinner           3\n",
      "3         23.68        3.31  Female     No         Sun  Dinner           2\n",
      "4         24.59        3.61    Male     No         Sun  Dinner           4\n",
      "..          ...         ...     ...    ...         ...     ...         ...\n",
      "239       29.03        5.92  Female     No         Sat  Dinner           3\n",
      "240       27.18        2.00    Male    Yes         Sat  Dinner           2\n",
      "241       22.67        2.00  Female    Yes         Sat  Dinner           2\n",
      "242       17.82        1.75  Female     No         Sat  Dinner           2\n",
      "243       18.78        3.00    Male     No        Thur  Dinner           2\n",
      "\n",
      "[244 rows x 7 columns]\n"
     ]
    }
   ],
   "source": [
    "# Exercise Answer\n",
    "# Defining the mapping dictionaries for recoding\n",
    "sex_map = {0: 'Male', 1: 'Female'}\n",
    "smoker_map = {0: 'No', 1: 'Yes'}\n",
    "day_of_week_map = {4: 'Thur', 5: 'Fri', 6: 'Sat', 7: 'Sun'}\n",
    "\n",
    "# Recoding the 'sex', 'smoker', and 'day_of_week' variables\n",
    "tips['sex'] = tips['sex'].replace(sex_map)\n",
    "tips['smoker'] = tips['smoker'].replace(smoker_map)\n",
    "tips['day_of_week'] = tips['day_of_week'].replace(day_of_week_map)\n",
    "\n",
    "# Printing\n",
    "print(tips)"
   ]
  },
  {
   "cell_type": "markdown",
   "id": "a1d3d4f7",
   "metadata": {},
   "source": [
    "### Exercise 7: (4 points)\n",
    "<span  style=\"color:purple; font-size:16px\">How many people were in the largest party served by the waiter? The smallest?</span>"
   ]
  },
  {
   "cell_type": "code",
   "execution_count": 8,
   "id": "e1b0f476",
   "metadata": {},
   "outputs": [],
   "source": [
    "# Exercise Answer\n",
    "# Find the largest and smallest party sizes\n",
    "largest_party = tips['party_size'].max()\n",
    "smallest_party = tips['party_size'].min()"
   ]
  },
  {
   "cell_type": "code",
   "execution_count": 9,
   "id": "6a26ee96",
   "metadata": {},
   "outputs": [
    {
     "name": "stdout",
     "output_type": "stream",
     "text": [
      "Largest party size served by the waiter: 6\n",
      "Smallest party size served by the waiter: 1\n"
     ]
    }
   ],
   "source": [
    "# Printing the largest and smallest party size\n",
    "print(\"Largest party size served by the waiter:\", largest_party)\n",
    "print(\"Smallest party size served by the waiter:\", smallest_party)"
   ]
  },
  {
   "cell_type": "markdown",
   "id": "8a868ba9",
   "metadata": {},
   "source": [
    "### Exercise 8: (5 points)\n",
    "<span  style=\"color:purple; font-size:16px\">Create a histogram of the `total_bill` variable using 20 bins. Include a title and customize at least one other aspect of the plot. </span>"
   ]
  },
  {
   "cell_type": "code",
   "execution_count": 10,
   "id": "19a911c8",
   "metadata": {},
   "outputs": [
    {
     "data": {
      "image/png": "[encoded data removed]",
      "text/plain": [
       "<Figure size 640x480 with 1 Axes>"
      ]
     },
     "metadata": {},
     "output_type": "display_data"
    }
   ],
   "source": [
    "# Exercise Answer\n",
    "import matplotlib.pyplot as plt\n",
    "\n",
    "# Creating a histogram of the 'total_bill' variable with 20 bins\n",
    "plt.hist(tips['total_bill'], bins=20, color='skyblue', edgecolor='black')\n",
    "\n",
    "# Adding the title and labels\n",
    "plt.title('Total Bill Amounts')\n",
    "plt.xlabel('X-axis')\n",
    "plt.ylabel('Y-axis')\n",
    "\n",
    "# Customizing the grid appearance\n",
    "plt.grid(color='gray', linestyle='--', linewidth=0.5)\n",
    "\n",
    "# Show the plot\n",
    "plt.show()\n"
   ]
  },
  {
   "cell_type": "markdown",
   "id": "c2bef41b",
   "metadata": {},
   "source": [
    "### Exercise 9: (4 points)\n",
    "<span  style=\"color:purple; font-size:16px\">What is a 'typical' bill size? Is mean or median better when you say typical?</span>"
   ]
  },
  {
   "cell_type": "code",
   "execution_count": 11,
   "id": "384c746f",
   "metadata": {},
   "outputs": [
    {
     "name": "stdout",
     "output_type": "stream",
     "text": [
      "Mean: 19.78594262295082\n",
      "Median: 17.795\n"
     ]
    }
   ],
   "source": [
    "# Exercise Answer\n",
    "# Calculating the mean and median of the 'total_bill' variable\n",
    "mean_bill = tips['total_bill'].mean()\n",
    "median_bill = tips['total_bill'].median()\n",
    "\n",
    "# Printing mean and median\n",
    "print(\"Mean:\", mean_bill)\n",
    "print(\"Median:\", median_bill)"
   ]
  },
  {
   "cell_type": "markdown",
   "id": "8b8b77a3",
   "metadata": {},
   "source": [
    "After calculating the mean total bill and find it to be 19.78, we might consider this to be a typical bill size if the dataset is normally distributed and doesn't contain outliers that significantly affect the mean. Similarly, if we calculate the median total bill and find it to be 17.80, we might consider this to be a typical bill size if the dataset is skewed or contains outliers."
   ]
  },
  {
   "cell_type": "markdown",
   "id": "d506b0ed",
   "metadata": {},
   "source": [
    "### Exercise 10: (6 points)\n",
    "<span  style=\"color:purple; font-size:16px\">Create a new variable, `tip_rate` which is the `tip_amount` divided by `total_bill`. Create a histogram of the new variable. </span>"
   ]
  },
  {
   "cell_type": "code",
   "execution_count": 12,
   "id": "4a329f98",
   "metadata": {
    "scrolled": true
   },
   "outputs": [
    {
     "data": {
      "text/plain": [
       "0      0.059447\n",
       "1      0.160542\n",
       "2      0.166587\n",
       "3      0.139780\n",
       "4      0.146808\n",
       "         ...   \n",
       "239    0.203927\n",
       "240    0.073584\n",
       "241    0.088222\n",
       "242    0.098204\n",
       "243    0.159744\n",
       "Name: tip_rate, Length: 244, dtype: float64"
      ]
     },
     "execution_count": 12,
     "metadata": {},
     "output_type": "execute_result"
    }
   ],
   "source": [
    "# Exercise Answer\n",
    "\n",
    "# Creating the new variable 'tip_rate'\n",
    "tips['tip_rate'] = tips['tip_amount'] / tips['total_bill']\n",
    "\n",
    "tips['tip_rate']"
   ]
  },
  {
   "cell_type": "code",
   "execution_count": 13,
   "id": "df04c020",
   "metadata": {},
   "outputs": [
    {
     "data": {
      "image/png": "[encoded data removed]",
      "text/plain": [
       "<Figure size 640x480 with 1 Axes>"
      ]
     },
     "metadata": {},
     "output_type": "display_data"
    }
   ],
   "source": [
    "# histogram of the new variable tip_rate\n",
    "\n",
    "# Creating a histogram of the 'tip_rate' variable\n",
    "plt.hist(tips['tip_rate'], bins=20, color='skyblue', edgecolor='black')\n",
    "\n",
    "# Add title and labels\n",
    "plt.title('Tip Rate')\n",
    "plt.xlabel('X-axis')\n",
    "plt.ylabel('Y-axis')\n",
    "\n",
    "# Show the plot\n",
    "plt.show()\n"
   ]
  },
  {
   "cell_type": "markdown",
   "id": "5818229a",
   "metadata": {},
   "source": [
    "### Exercise 11: (5 points)\n",
    "<span  style=\"color:purple; font-size:16px\">Extract the entire row of data for the 10 largest and 10 smallest values of `tip_rate`. This can be done different ways but these steps are one way. First, extract the 10 largest values and save this as a DataFrame called 'largest'. Create a new variable called 'largest_indexes' which is the index of 'largest'. Use the `.loc()` method to extract all the data corresponding to those indexes.</span>"
   ]
  },
  {
   "cell_type": "code",
   "execution_count": 14,
   "id": "d7739977",
   "metadata": {},
   "outputs": [
    {
     "name": "stdout",
     "output_type": "stream",
     "text": [
      "10 Largest values of tip_rate:\n",
      "     total_bill  tip_amount     sex smoker day_of_week    time  party_size  \\\n",
      "172        7.25        5.15  Female    Yes         Sun  Dinner           2   \n",
      "178        9.60        4.00    Male    Yes         Sun  Dinner           2   \n",
      "67         3.07        1.00    Male    Yes         Sat  Dinner           1   \n",
      "232       11.61        3.39  Female     No         Sat  Dinner           2   \n",
      "183       23.17        6.50  Female    Yes         Sun  Dinner           4   \n",
      "109       14.31        4.00    Male    Yes         Sat  Dinner           2   \n",
      "149        7.51        2.00  Female     No        Thur   Lunch           2   \n",
      "93        16.32        4.30    Male    Yes         Fri  Dinner           2   \n",
      "221       13.42        3.48    Male    Yes         Fri   Lunch           2   \n",
      "51        10.29        2.60    Male     No         Sun  Dinner           2   \n",
      "\n",
      "     tip_rate  \n",
      "172  0.710345  \n",
      "178  0.416667  \n",
      "67   0.325733  \n",
      "232  0.291990  \n",
      "183  0.280535  \n",
      "109  0.279525  \n",
      "149  0.266312  \n",
      "93   0.263480  \n",
      "221  0.259314  \n",
      "51   0.252672  \n"
     ]
    }
   ],
   "source": [
    "# Exercise Answer\n",
    "\n",
    "# largest values\n",
    "# Sort the DataFrame by 'tip_rate' in descending order \n",
    "largest = tips.nlargest(10, 'tip_rate')\n",
    "\n",
    "# Getting the index of the largest values\n",
    "largest_indexes = largest.index\n",
    "\n",
    "# Extracting the entire rows of data corresponding to the largest indexes\n",
    "largest_data = tips.loc[largest_indexes]\n",
    "\n",
    "print(\"10 Largest values of tip_rate:\")\n",
    "print(largest_data)"
   ]
  },
  {
   "cell_type": "code",
   "execution_count": 15,
   "id": "9714a31f",
   "metadata": {},
   "outputs": [
    {
     "name": "stdout",
     "output_type": "stream",
     "text": [
      "10 Smallest values of tip_rate:\n",
      "     total_bill  tip_amount     sex smoker day_of_week    time  party_size  \\\n",
      "237       32.83        1.17  Female    Yes         Sat  Dinner           2   \n",
      "102       44.30        2.50    Male    Yes         Sat  Dinner           3   \n",
      "57        26.41        1.50    Male     No         Sat  Dinner           2   \n",
      "0         16.99        1.01    Male     No         Sun  Dinner           2   \n",
      "187       30.46        2.00  Female    Yes         Sun  Dinner           5   \n",
      "210       30.06        2.00  Female    Yes         Sat  Dinner           3   \n",
      "48        28.55        2.05  Female     No         Sun  Dinner           3   \n",
      "146       18.64        1.36    Male     No        Thur   Lunch           3   \n",
      "240       27.18        2.00    Male    Yes         Sat  Dinner           2   \n",
      "184       40.55        3.00  Female    Yes         Sun  Dinner           2   \n",
      "\n",
      "     tip_rate  \n",
      "237  0.035638  \n",
      "102  0.056433  \n",
      "57   0.056797  \n",
      "0    0.059447  \n",
      "187  0.065660  \n",
      "210  0.066534  \n",
      "48   0.071804  \n",
      "146  0.072961  \n",
      "240  0.073584  \n",
      "184  0.073983  \n"
     ]
    }
   ],
   "source": [
    "# smallest values\n",
    "# Sort the DataFrame by 'tip_rate' in ascending order \n",
    "smallest = tips.nsmallest(10, 'tip_rate')\n",
    "\n",
    "# Getting the index of the smallest values\n",
    "smallest_indexes = smallest.index\n",
    "\n",
    "# Extracting the entire rows of data corresponding to the smallest indexes\n",
    "smallest_data = tips.loc[smallest_indexes]\n",
    "\n",
    "print(\"10 Smallest values of tip_rate:\")\n",
    "print(smallest_data)"
   ]
  },
  {
   "cell_type": "markdown",
   "id": "803f27fa",
   "metadata": {},
   "source": [
    "### Exercise 12: (5 points)\n",
    "<span  style=\"color:purple; font-size:16px\">Create a bar graph showing the number of parties served on each day of the week. What day had the heaviest volume (in terms of number of tables served)? What day had the lowest volume?</span>"
   ]
  },
  {
   "cell_type": "code",
   "execution_count": 16,
   "id": "bdef5d4c",
   "metadata": {},
   "outputs": [
    {
     "data": {
      "image/png": "[encoded data removed]",
      "text/plain": [
       "<Figure size 1000x600 with 1 Axes>"
      ]
     },
     "metadata": {},
     "output_type": "display_data"
    }
   ],
   "source": [
    "# Exercise Answer\n",
    "# Group the data by 'day_of_week' and count the number of parties served on each day\n",
    "party_count = tips['day_of_week'].value_counts().sort_index()\n",
    "\n",
    "# bar graph\n",
    "plt.figure(figsize=(10, 6))\n",
    "plt.bar(party_count.index, party_count.values, color='skyblue', edgecolor='black')\n",
    "\n",
    "# Adding title and labels\n",
    "plt.title('Number of Parties Served on Each Day of the Week')\n",
    "plt.xlabel('Day of the Week')\n",
    "plt.ylabel('Number of Parties Served')\n",
    "\n",
    "# Showing the plot\n",
    "plt.show()"
   ]
  },
  {
   "cell_type": "code",
   "execution_count": 17,
   "id": "d0c62fa6",
   "metadata": {},
   "outputs": [
    {
     "name": "stdout",
     "output_type": "stream",
     "text": [
      "Heaviest day and Volume : Sat 87\n",
      "Lowest day and Volume : Fri 19\n"
     ]
    }
   ],
   "source": [
    "# Find the day with the heaviest volume\n",
    "heaviest_day = party_count[party_count == party_count.max()].index[0]\n",
    "heaviest_volume = party_count.max()\n",
    "\n",
    "# Find the day with the lowest volume\n",
    "lowest_day = party_count[party_count == party_count.min()].index[0]\n",
    "lowest_volume = party_count.min()\n",
    "\n",
    "print(\"Heaviest day and Volume :\",heaviest_day,heaviest_volume)\n",
    "print(\"Lowest day and Volume :\",lowest_day,lowest_volume)"
   ]
  },
  {
   "cell_type": "markdown",
   "id": "dec2ef7c",
   "metadata": {},
   "source": [
    "### Exercise 13: (5 points)\n",
    "<span  style=\"color:purple; font-size:16px\">Find the total number of orders where the `total_bill` is greater than 40 dollars AND the party size was 4 or less.</span>"
   ]
  },
  {
   "cell_type": "code",
   "execution_count": 18,
   "id": "ae688d7c",
   "metadata": {},
   "outputs": [
    {
     "name": "stdout",
     "output_type": "stream",
     "text": [
      "Total number of orders 8\n"
     ]
    }
   ],
   "source": [
    "# Exercise Answer\n",
    "\n",
    "# Finding the total number of orders where the total_bill is greater than $40 and the party size was 4 or less\n",
    "orders = tips.loc[(tips['total_bill'] > 40) & (tips['party_size'] <= 4)].shape[0]\n",
    "\n",
    "print(\"Total number of orders\", orders)\n"
   ]
  },
  {
   "cell_type": "markdown",
   "id": "1cf248e8",
   "metadata": {},
   "source": [
    "### Exercise 14: (5 points)\n",
    "<span  style=\"color:purple; font-size:16px\">Who pays the bill more often: men or women? Create a pie chart and create a Series showing the proportion of bills paid by each `sex`.</span>"
   ]
  },
  {
   "cell_type": "code",
   "execution_count": 19,
   "id": "4a49174e",
   "metadata": {},
   "outputs": [
    {
     "data": {
      "image/png": "[encoded data removed]",
      "text/plain": [
       "<Figure size 600x600 with 1 Axes>"
      ]
     },
     "metadata": {},
     "output_type": "display_data"
    }
   ],
   "source": [
    "# Exercise Answer\n",
    "# Counting the occurrences of each sex\n",
    "sex_counts = tips['sex'].value_counts()\n",
    "\n",
    "# Creating a pie chart\n",
    "plt.figure(figsize=(6, 6))\n",
    "plt.pie(sex_counts, labels=sex_counts.index, autopct='%1.1f%%', colors=['lightblue', 'lightcoral'])\n",
    "plt.title('Proportion of Bills Paid by Each Sex')\n",
    "\n",
    "# plot\n",
    "plt.show()"
   ]
  },
  {
   "cell_type": "code",
   "execution_count": 20,
   "id": "4f3cfacc",
   "metadata": {},
   "outputs": [
    {
     "name": "stdout",
     "output_type": "stream",
     "text": [
      "sex\n",
      "Female    0.643443\n",
      "Male      0.356557\n",
      "Name: Proportion of Bills Paid, dtype: float64\n"
     ]
    }
   ],
   "source": [
    "# Counting the occurrences of each sex\n",
    "sex_counts = tips['sex'].value_counts()\n",
    "\n",
    "# Calculating the proportion of bills paid by each sex\n",
    "proportion_paid = sex_counts / len(tips)\n",
    "\n",
    "# Creating a Series from the calculated proportions\n",
    "proportion_series = pd.Series(proportion_paid, name='Proportion of Bills Paid')\n",
    "\n",
    "# Displaying the Series\n",
    "print(proportion_series)"
   ]
  },
  {
   "cell_type": "code",
   "execution_count": null,
   "id": "1a3c0094",
   "metadata": {},
   "outputs": [],
   "source": []
  }
 ],
 "metadata": {
  "kernelspec": {
   "display_name": "Python 3 (ipykernel)",
   "language": "python",
   "name": "python3"
  },
  "language_info": {
   "codemirror_mode": {
    "name": "ipython",
    "version": 3
   },
   "file_extension": ".py",
   "mimetype": "text/x-python",
   "name": "python",
   "nbconvert_exporter": "python",
   "pygments_lexer": "ipython3",
   "version": "3.11.5"
  }
 },
 "nbformat": 4,
 "nbformat_minor": 5
}
