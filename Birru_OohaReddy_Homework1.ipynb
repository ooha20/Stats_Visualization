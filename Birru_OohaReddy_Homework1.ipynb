{
  "cells": [
    {
      "cell_type": "markdown",
      "id": "d7fadc6b",
      "metadata": {
        "id": "d7fadc6b"
      },
      "source": [
        "## DATA 690 Homework 1 (50 points - Due on Tuesday, February 13th by 11:59 pm ET)\n",
        "\n",
        "The output of this assignment for submission should be in PDF format **AND** .py or .ipynb.\n",
        "\n",
        "The name of the file should be as follows:\n",
        "\n",
        "    Lastname_Firstname_Homework1.pdf (example: Thomas_Sunela_Homework1.pdf)\n",
        "   **AND**\n",
        "   \n",
        "    Lastname_Firstname_Homework1.ipynb (example: Thomas_Sunela_Assignment1.ipynb.\n",
        "    \n",
        "In short, you are submitting the python notebook as well as the pdf of that notebook.\n",
        "Do **NOT** submit .html file, the system will give you an error.\n",
        "\n",
        "    \n",
        "**Incorrect file name will cost you points!<br>**\n",
        "Each exercise is worth 10 points.\n",
        "\n",
        "Instructions for converting a Jupyter Python notebook to PDF:\n",
        "                                        \n",
        "    Go to the menu and choose, File --> Download As --> html.\n",
        "    Open that html file and print it to PDF.\n",
        "    Submit the PDF file **NOT** the html file.\n",
        "\n",
        "If you are using Google Colab, remember to review the PDF before submitting to ensure that all cells and answers are displayed in the PDF.\n",
        "\n",
        "**Things to note:**\n",
        "\n",
        "* Each cell should display an output\n",
        "* Use only the Python concepts and methods taught thus far\n",
        "* Well formatted output\n",
        "* Use both Markdown and code comments in the Jupyter Notebook as needed\n"
      ]
    },
    {
      "cell_type": "markdown",
      "id": "f440bcda",
      "metadata": {
        "id": "f440bcda"
      },
      "source": [
        "## Exercise 1:\n",
        "**Write a function called \"ran_check\" that checks whether a number is in a given range (inclusive of high and low)**\n",
        "\n",
        "Example:\n",
        "ran_check(5,2,7) should return \"5 is in the range between 2 and 7\"\n",
        "\n",
        "ran_check(10,2,7) should return \"The number is outside the range\""
      ]
    },
    {
      "cell_type": "code",
      "execution_count": 3,
      "id": "fadb102c",
      "metadata": {
        "id": "fadb102c"
      },
      "outputs": [],
      "source": [
        "def ran_check(num, low, high):  # Define a function to check if a number is within a specified range.\n",
        "    if low <= num <= high:  # Check if the number is within the range.\n",
        "        return f\"{num} is in the range between {low} and {high}.\"  # Return a message if the number is within the range.\n",
        "    else:\n",
        "        return f\"{num} is not within the range between {low} and {high}.\"  # Return a message if the number is not within the range.\n",
        "\n"
      ]
    },
    {
      "cell_type": "code",
      "execution_count": 4,
      "id": "746e23f6",
      "metadata": {
        "colab": {
          "base_uri": "https://localhost:8080/",
          "height": 35
        },
        "id": "746e23f6",
        "outputId": "8b28bb5a-0c47-438e-d4f4-cdc203abf7e7"
      },
      "outputs": [
        {
          "output_type": "execute_result",
          "data": {
            "text/plain": [
              "'5 is in the range between 2 and 7.'"
            ],
            "application/vnd.google.colaboratory.intrinsic+json": {
              "type": "string"
            }
          },
          "metadata": {},
          "execution_count": 4
        }
      ],
      "source": [
        "ran_check(5,2,7)"
      ]
    },
    {
      "cell_type": "code",
      "source": [
        "ran_check(10,2,7)"
      ],
      "metadata": {
        "colab": {
          "base_uri": "https://localhost:8080/",
          "height": 35
        },
        "id": "DvjR2V4kLQAA",
        "outputId": "c9bc944a-3c15-4118-d5ef-d30002cb3d0a"
      },
      "id": "DvjR2V4kLQAA",
      "execution_count": 5,
      "outputs": [
        {
          "output_type": "execute_result",
          "data": {
            "text/plain": [
              "'10 is not within the range between 2 and 7.'"
            ],
            "application/vnd.google.colaboratory.intrinsic+json": {
              "type": "string"
            }
          },
          "metadata": {},
          "execution_count": 5
        }
      ]
    },
    {
      "cell_type": "markdown",
      "id": "1e8c7fd1",
      "metadata": {
        "id": "1e8c7fd1"
      },
      "source": [
        "## Exercise 2:\n",
        "**Write a Python function that accepts a string and calculates the number of upper case letters and lower case letters.**\n",
        "\n",
        "    Sample String : 'Hello Mr. Rogers, how are you this fine Tuesday?'\n",
        "    Expected Output :\n",
        "    No. of Upper case characters : 4\n",
        "    No. of Lower case Characters : 33\n"
      ]
    },
    {
      "cell_type": "code",
      "execution_count": 6,
      "id": "5a2b2e69",
      "metadata": {
        "id": "5a2b2e69"
      },
      "outputs": [],
      "source": [
        "def case_letters(a):  # Define a function to count the number of uppercase and lowercase letters in a string.\n",
        "    counts = {'uppercase': 0, 'lowercase': 0}  # Initialize a dictionary to store counts of uppercase and lowercase letters.\n",
        "\n",
        "    for char in a:  # Iterate through each character in the input string.\n",
        "        if char.isupper():  # Check if the character is uppercase.\n",
        "            counts['uppercase'] += 1  # Increment the count of uppercase letters.\n",
        "        elif char.islower():  # Check if the character is lowercase.\n",
        "            counts['lowercase'] += 1  # Increment the count of lowercase letters.\n",
        "\n",
        "    return counts  # Return the dictionary containing the counts of uppercase and lowercase letters.\n"
      ]
    },
    {
      "cell_type": "code",
      "execution_count": 7,
      "id": "d970ae52",
      "metadata": {
        "colab": {
          "base_uri": "https://localhost:8080/"
        },
        "id": "d970ae52",
        "outputId": "166f2979-a6c9-467e-974e-950ef11bd03c"
      },
      "outputs": [
        {
          "output_type": "stream",
          "name": "stdout",
          "text": [
            "No. of Upper case characters: 4\n",
            "Number of Lower case characters: 33\n"
          ]
        }
      ],
      "source": [
        "sample_string = \"Hello Mr. Rogers, how are you this fine Tuesday?\"  # Define a sample string to analyze.\n",
        "\n",
        "letter_counts = case_letters(sample_string)  # Count the number of uppercase and lowercase letters in the sample string.\n",
        "\n",
        "print(\"No. of Upper case characters:\", letter_counts['uppercase'])  # Print the count of uppercase letters.\n",
        "print(\"Number of Lower case characters:\", letter_counts['lowercase'])  # Print the count of lowercase letters.\n"
      ]
    },
    {
      "cell_type": "markdown",
      "id": "24a38331",
      "metadata": {
        "id": "24a38331"
      },
      "source": [
        "## Exercise 3:\n",
        "**Write a Python function that takes a list and returns a new list with unique elements of the first list.**\n",
        "\n",
        "    Sample List : [1,1,1,1,2,2,3,3,3,3,4,5]\n",
        "    Unique List : [1, 2, 3, 4, 5]"
      ]
    },
    {
      "cell_type": "code",
      "execution_count": 8,
      "id": "b847c96f",
      "metadata": {
        "id": "b847c96f"
      },
      "outputs": [],
      "source": [
        "def unique_elements(sample):  # Define a function to return a list containing unique elements from the input list.\n",
        "    return list(set(sample))  # Convert the input list to a set to remove duplicates, then convert it back to a list.\n",
        "\n",
        "input_list = [1,1,1,1,2,2,3,3,3,3,4,5]  # Define an input list with duplicate elements.\n",
        "unique_list = unique_elements(input_list)  # Find unique elements from the input list.\n",
        "\n"
      ]
    },
    {
      "cell_type": "code",
      "execution_count": 9,
      "id": "7d063838",
      "metadata": {
        "colab": {
          "base_uri": "https://localhost:8080/"
        },
        "id": "7d063838",
        "outputId": "68453235-2f0d-43b3-9fe2-5911f3cfdf16"
      },
      "outputs": [
        {
          "output_type": "stream",
          "name": "stdout",
          "text": [
            "Sample List: [1, 1, 1, 1, 2, 2, 3, 3, 3, 3, 4, 5]\n",
            "Unique List: [1, 2, 3, 4, 5]\n"
          ]
        }
      ],
      "source": [
        "print(\"Sample List:\", input_list)  # Print the original input list.\n",
        "print(\"Unique List:\", unique_list)  # Print the list containing unique elements.\n"
      ]
    },
    {
      "cell_type": "markdown",
      "id": "be35c80c",
      "metadata": {
        "id": "be35c80c"
      },
      "source": [
        "## Exercise 4:\n",
        "**Write a Python function that checks whether a word or phrase is palindrome or not.**\n",
        "\n",
        "Note: A palindrome is word, phrase, or sequence that reads the same backward as forward, e.g., madam,kayak,racecar, or a phrase \"nurses run\". Hint: You may want to check out the .replace() method in a string to help out with dealing with spaces. Also google search how to reverse a string in Python, there are some clever ways to do it with slicing notation."
      ]
    },
    {
      "cell_type": "code",
      "execution_count": 10,
      "id": "15876486",
      "metadata": {
        "id": "15876486"
      },
      "outputs": [],
      "source": [
        "def is_palindrome(word):\n",
        "    # Converting the word to lowercase and removing spaces using .replace()\n",
        "    word = word.lower().replace(\" \", \"\")  # Convert the word to lowercase and remove spaces.\n",
        "\n",
        "    # Comparing the word with its reverse\n",
        "    return word == word[::-1]  # Check if the word is equal to its reverse.\n"
      ]
    },
    {
      "cell_type": "code",
      "execution_count": 11,
      "id": "2aef7ef2",
      "metadata": {
        "colab": {
          "base_uri": "https://localhost:8080/"
        },
        "id": "2aef7ef2",
        "outputId": "9f2ae97d-a5ca-4a2a-eb42-f008a434c3ff"
      },
      "outputs": [
        {
          "output_type": "stream",
          "name": "stdout",
          "text": [
            "'madam' is a palindrome: True\n",
            "'nurses run' is a palindrome: True\n",
            "'python' is a palindrome: False\n"
          ]
        }
      ],
      "source": [
        "word1 = \"madam\"  # Define a palindrome word.\n",
        "print(f\"'{word1}' is a palindrome:\", is_palindrome(word1))  # Check if the word is a palindrome.\n",
        "\n",
        "word2 = \"nurses run\"  # Define a palindrome phrase.\n",
        "print(f\"'{word2}' is a palindrome:\", is_palindrome(word2))  # Check if the phrase is a palindrome.\n",
        "\n",
        "word3 = \"python\"  # Define a non-palindrome word.\n",
        "print(f\"'{word3}' is a palindrome:\", is_palindrome(word3))  # Check if the word is a palindrome.\n"
      ]
    },
    {
      "cell_type": "markdown",
      "id": "cbb9afe3",
      "metadata": {
        "id": "cbb9afe3"
      },
      "source": [
        "## Exercise 5:\n",
        "#### SPY GAME: Write a function that takes in a list of integers and returns True if it contains 007 in order\n",
        "\n",
        "     spy_game([1,2,4,0,0,7,5]) --> True\n",
        "     spy_game([1,0,2,4,0,5,7]) --> True\n",
        "     spy_game([1,7,2,0,4,5,0]) --> False\n"
      ]
    },
    {
      "cell_type": "code",
      "execution_count": 12,
      "id": "38ca631b",
      "metadata": {
        "id": "38ca631b"
      },
      "outputs": [],
      "source": [
        "def spy_game(nums):\n",
        "\n",
        "    # Initialize index variables for '0', '0', and '7'\n",
        "    a_0 = a_0_0 = a_7 = None  # Initialize variables to track the indices of '0', '0', and '7'\n",
        "\n",
        "    # Iterate through the list and keep track of the index\n",
        "    for i, num in enumerate(nums):  # Loop through each element and its index in the list\n",
        "        if num == 0:  # Check if the element is '0'\n",
        "            if a_0 is None:  # Check if the first '0' index is found\n",
        "                a_0 = i  # Store the index of the first '0'\n",
        "            elif a_0_0 is None:  # Check if the second '0' index is found\n",
        "                a_0_0 = i  # Store the index of the second '0'\n",
        "        elif num == 7:  # Check if the element is '7'\n",
        "            a_7 = i  # Store the index of '7'\n",
        "\n",
        "    # Check if the indices are found in the correct order\n",
        "    return a_0 is not None and a_0_0 is not None and a_7 is not None \\\n",
        "           and a_0 < a_0_0 < a_7  # Return True if the indices are found in the correct order\n",
        "\n"
      ]
    },
    {
      "cell_type": "code",
      "execution_count": 13,
      "id": "0a3a12ff",
      "metadata": {
        "colab": {
          "base_uri": "https://localhost:8080/"
        },
        "id": "0a3a12ff",
        "outputId": "01bf5aab-cce8-41bf-ff45-6d238f40af6a"
      },
      "outputs": [
        {
          "output_type": "execute_result",
          "data": {
            "text/plain": [
              "True"
            ]
          },
          "metadata": {},
          "execution_count": 13
        }
      ],
      "source": [
        "spy_game([1,2,4,0,0,7,5])"
      ]
    },
    {
      "cell_type": "code",
      "execution_count": 14,
      "id": "36710140",
      "metadata": {
        "colab": {
          "base_uri": "https://localhost:8080/"
        },
        "id": "36710140",
        "outputId": "4fe2e4f7-56ce-4890-ce3f-5d5b3d5eb3a7"
      },
      "outputs": [
        {
          "output_type": "execute_result",
          "data": {
            "text/plain": [
              "True"
            ]
          },
          "metadata": {},
          "execution_count": 14
        }
      ],
      "source": [
        "spy_game([1,0,2,4,0,5,7])"
      ]
    },
    {
      "cell_type": "code",
      "source": [
        "spy_game([1,7,2,0,4,5,0])"
      ],
      "metadata": {
        "colab": {
          "base_uri": "https://localhost:8080/"
        },
        "id": "SO6ns4BgLt-k",
        "outputId": "5b677bed-8051-4075-cda0-6b368d236f0e"
      },
      "id": "SO6ns4BgLt-k",
      "execution_count": 15,
      "outputs": [
        {
          "output_type": "execute_result",
          "data": {
            "text/plain": [
              "False"
            ]
          },
          "metadata": {},
          "execution_count": 15
        }
      ]
    },
    {
      "cell_type": "code",
      "source": [],
      "metadata": {
        "id": "kLFoXmPCU8py"
      },
      "id": "kLFoXmPCU8py",
      "execution_count": null,
      "outputs": []
    }
  ],
  "metadata": {
    "kernelspec": {
      "display_name": "Python 3 (ipykernel)",
      "language": "python",
      "name": "python3"
    },
    "language_info": {
      "codemirror_mode": {
        "name": "ipython",
        "version": 3
      },
      "file_extension": ".py",
      "mimetype": "text/x-python",
      "name": "python",
      "nbconvert_exporter": "python",
      "pygments_lexer": "ipython3",
      "version": "3.11.3"
    },
    "colab": {
      "provenance": []
    }
  },
  "nbformat": 4,
  "nbformat_minor": 5
}