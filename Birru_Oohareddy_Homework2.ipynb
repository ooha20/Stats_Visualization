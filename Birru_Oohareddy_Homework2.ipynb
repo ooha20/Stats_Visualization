{
 "cells": [
  {
   "cell_type": "markdown",
   "metadata": {},
   "source": [
    "## DATA 690 Homework 2 (50 points - Due on Tuesday, February 20th by 11:59 pm ET)\n",
    "\n",
    "The output of this assignment for submission should be in PDF format **AND** .py or .ipynb. \n",
    "\n",
    "The name of the file should be as follows: \n",
    "\n",
    "    Lastname_Firstname_Homework2.pdf (example: Thomas_Sunela_Homework2.pdf)\n",
    "   **AND** \n",
    "   \n",
    "    Lastname_Firstname_Homework2.ipynb (example: Thomas_Sunela_Homework2.ipynb. \n",
    "    \n",
    "In short, you are submitting the python notebook as well as the pdf of that notebook. \n",
    "Do **NOT** submit .html file, the system will give you an error.\n",
    "\n",
    "    \n",
    "**Incorrect file name will cost you points!<br>**\n",
    "\n",
    "Instructions for converting a Jupyter Python notebook to PDF: \n",
    "                                        \n",
    "    Go to the menu and choose, File --> Download As --> html. \n",
    "    Open that html file and print it to PDF. \n",
    "    Submit the PDF file **NOT** the html file.\n",
    "\n",
    "If you are using Google Colab, remember to review the PDF before submitting to ensure that all cells and answers are displayed in the PDF.\n",
    "\n",
    "**Things to note:**\n",
    "\n",
    "* Each cell should display an output\n",
    "* Use only the basic Python concepts and methods taught thus far\n",
    "* Well formatted output\n",
    "* Use both Markdown and code comments in the Jupyter Notebook as needed\n"
   ]
  },
  {
   "cell_type": "markdown",
   "metadata": {},
   "source": [
    "### Exercise 1: (10 points)\n",
    "<span  style=\"color:purple; font-size:16px\">Given two NumPy arrays, `arr1` and `arr2`, with the following properties:\n",
    "`arr1` has a shape of (4, 4) and contains integers from 1 to 16. `arr2` has a shape of (4, 1) and contains integers from 17 to 20.\n",
    "Perform the following operations and print each of the results with proper heading:\n",
    "\n",
    "* Add `arr2` as the first column with `arr1` to create a new array `result_arr` with shape (4,5).\n",
    "* Extract the diagonal elements of `result_arr`.\n",
    "* Calculate the dot product between `arr1` and `arr2`.</span>"
   ]
  },
  {
   "cell_type": "code",
   "execution_count": 10,
   "metadata": {},
   "outputs": [],
   "source": [
    "## Exercise Answer\n",
    "import numpy as np\n",
    "\n",
    "# Create arr1 and arr2\n",
    "arr1 = np.arange(1, 17).reshape(4, 4)\n",
    "arr2 = np.arange(17, 21).reshape(4, 1)"
   ]
  },
  {
   "cell_type": "code",
   "execution_count": 11,
   "metadata": {},
   "outputs": [
    {
     "name": "stdout",
     "output_type": "stream",
     "text": [
      "Result after adding arr2 as the first column to arr1:\n",
      "[[17  1  2  3  4]\n",
      " [18  5  6  7  8]\n",
      " [19  9 10 11 12]\n",
      " [20 13 14 15 16]]\n"
     ]
    }
   ],
   "source": [
    "# Add arr2 as the first column with arr1 to create a new array result_arr with shape (4,5).\n",
    "result_arr = np.concatenate((arr2, arr1), axis=1)\n",
    "\n",
    "# Print result_arr\n",
    "print(\"Result after adding arr2 as the first column to arr1:\")\n",
    "print(result_arr)"
   ]
  },
  {
   "cell_type": "code",
   "execution_count": 13,
   "metadata": {},
   "outputs": [
    {
     "name": "stdout",
     "output_type": "stream",
     "text": [
      "Shape of result_arr: (4, 5)\n"
     ]
    }
   ],
   "source": [
    "print(\"Shape of result_arr:\", result_arr.shape)"
   ]
  },
  {
   "cell_type": "code",
   "execution_count": 12,
   "metadata": {},
   "outputs": [
    {
     "name": "stdout",
     "output_type": "stream",
     "text": [
      "Diagonal elements of result_arr:\n",
      "[17  5 10 15]\n"
     ]
    }
   ],
   "source": [
    "# Extract the diagonal elements of result_arr.\n",
    "diagonal_elements = result_arr[np.arange(len(result_arr)), np.arange(result_arr.shape[0])]\n",
    "\n",
    "# Print diagonal elements\n",
    "print(\"Diagonal elements of result_arr:\")\n",
    "print(diagonal_elements)"
   ]
  },
  {
   "cell_type": "code",
   "execution_count": 15,
   "metadata": {},
   "outputs": [
    {
     "name": "stdout",
     "output_type": "stream",
     "text": [
      "\n",
      "Dot product between arr1 and arr2:\n",
      "[[ 190]\n",
      " [ 486]\n",
      " [ 782]\n",
      " [1078]]\n"
     ]
    }
   ],
   "source": [
    "# Calculate the dot product between arr1 and arr2.\n",
    "dot_product = np.dot(arr1, arr2)\n",
    "\n",
    "# Print dot product\n",
    "print(\"\\nDot product between arr1 and arr2:\")\n",
    "print(dot_product)"
   ]
  },
  {
   "cell_type": "markdown",
   "metadata": {},
   "source": [
    "### Exercise 2: (10 points)\n",
    "<span  style=\"color:purple; font-size:16px\">Given a 2D NumPy array called `data` with shape (6, 6), create a program that does the following:\n",
    "\n",
    "* Initialize `data` with random integers between 1 and 100.\n",
    "* Find and print the maximum value in the entire array.\n",
    "* Find and print the minimum value in each row.\n",
    "* Extract and print the elements in the last two rows and the last three columns of the array.\n",
    "* Replace all values in the array that are divisible by 5 with -1.</span>"
   ]
  },
  {
   "cell_type": "code",
   "execution_count": 24,
   "metadata": {},
   "outputs": [
    {
     "name": "stdout",
     "output_type": "stream",
     "text": [
      "[[10 91 13 67  1 97]\n",
      " [12 96 28 70 76 45]\n",
      " [88 75 37  5 22 27]\n",
      " [30 76 36  5 42 90]\n",
      " [41 32 81  2 40 99]\n",
      " [ 1 24 80 24 15 54]]\n"
     ]
    }
   ],
   "source": [
    "## Exercise Answer\n",
    "\n",
    "import numpy as np\n",
    "\n",
    "# Initialize data with random integers between 1 and 100\n",
    "a = np.random.randint(1, 101, size=(6, 6))\n",
    "print(a)"
   ]
  },
  {
   "cell_type": "code",
   "execution_count": 25,
   "metadata": {},
   "outputs": [
    {
     "name": "stdout",
     "output_type": "stream",
     "text": [
      "Maximum value in the entire array: 99\n"
     ]
    }
   ],
   "source": [
    "# Find and print the maximum value in the entire array\n",
    "max_value = np.max(a)\n",
    "print(\"Maximum value in the entire array:\", max_value)"
   ]
  },
  {
   "cell_type": "code",
   "execution_count": 26,
   "metadata": {},
   "outputs": [
    {
     "name": "stdout",
     "output_type": "stream",
     "text": [
      "Minimum value in each row: [ 1 12  5  5  2  1]\n"
     ]
    }
   ],
   "source": [
    "# Find and print the minimum value in each row\n",
    "min_value = np.min(a, axis=1)\n",
    "print(\"Minimum value in each row:\", min_value)"
   ]
  },
  {
   "cell_type": "code",
   "execution_count": 27,
   "metadata": {},
   "outputs": [
    {
     "name": "stdout",
     "output_type": "stream",
     "text": [
      "Elements in the last two rows and the last three columns: [[ 2 40 99]\n",
      " [24 15 54]]\n"
     ]
    }
   ],
   "source": [
    "# Extract and print the elements in the last two rows and the last three columns of the array\n",
    "elements = a[-2:, -3:]\n",
    "print(\"Elements in the last two rows and the last three columns:\", elements)"
   ]
  },
  {
   "cell_type": "code",
   "execution_count": 28,
   "metadata": {},
   "outputs": [
    {
     "name": "stdout",
     "output_type": "stream",
     "text": [
      "[[-1 91 13 67  1 97]\n",
      " [12 96 28 -1 76 -1]\n",
      " [88 -1 37 -1 22 27]\n",
      " [-1 76 36 -1 42 -1]\n",
      " [41 32 81  2 -1 99]\n",
      " [ 1 24 -1 24 -1 54]]\n"
     ]
    }
   ],
   "source": [
    "# Replace all values in the array that are divisible by 5 with -1\n",
    "a[a % 5 == 0] = -1\n",
    "print(a)"
   ]
  },
  {
   "cell_type": "markdown",
   "metadata": {},
   "source": [
    "### Exercise 3: (10 points)\n",
    "<span  style=\"color:purple; font-size:16px\">Create a line plot using Matplotlib to visualize the following data:\n",
    "\n",
    "* X-axis: Years (2010 to 2020)\n",
    "* Y-axis: Annual revenue for a company (in millions of dollars)\n",
    "* You have the revenue data for each year: [10, 15, 20, 22, 30, 35, 40, 45, 50, 55, 60].\n",
    "* Customize the plot by adding a title, labels for the X and Y axes, and grid lines.</span>"
   ]
  },
  {
   "cell_type": "code",
   "execution_count": 33,
   "metadata": {},
   "outputs": [
    {
     "data": {
      "image/png": "[encoded data removed]",
      "text/plain": [
       "<Figure size 432x288 with 1 Axes>"
      ]
     },
     "metadata": {
      "needs_background": "light"
     },
     "output_type": "display_data"
    }
   ],
   "source": [
    "## Exercise Answer\n",
    "\n",
    "import matplotlib.pyplot as plt\n",
    "\n",
    "x = range(2010, 2021)\n",
    "y = [10, 15, 20, 22, 30, 35, 40, 45, 50, 55, 60]\n",
    "\n",
    "# Plot\n",
    "plt.plot(x, y, marker='o', label='plotted line')\n",
    "\n",
    "# Title and labels\n",
    "plt.title('Annual Revenue')\n",
    "plt.xlabel('Years')\n",
    "plt.ylabel('Annual Revenue for a company (in millions of dollars)')\n",
    "\n",
    "# Grid lines\n",
    "plt.grid(True)\n",
    "\n",
    "# plot\n",
    "plt.show()"
   ]
  },
  {
   "cell_type": "markdown",
   "metadata": {},
   "source": [
    "### Exercise 4: (10 points)\n",
    "<span  style=\"color:purple; font-size:16px\">Visualize the sales data for different product categories using a bar chart. Create a bar chart with the following data:\n",
    "\n",
    "* Categories: 'Books', 'Electronics', 'Clothing', 'Furniture'\n",
    "* Sales (in thousands of dollars): [250, 180, 210, 300]\n",
    "* Customize the chart by adding labels for the X and Y axes, a title, and color the bars differently for better readability.</span>"
   ]
  },
  {
   "cell_type": "code",
   "execution_count": 35,
   "metadata": {},
   "outputs": [
    {
     "data": {
      "image/png": "[encoded data removed]",
      "text/plain": [
       "<Figure size 432x288 with 1 Axes>"
      ]
     },
     "metadata": {
      "needs_background": "light"
     },
     "output_type": "display_data"
    }
   ],
   "source": [
    "## Exercise Answer\n",
    "import matplotlib.pyplot as plt\n",
    "\n",
    "categories = ['Books', 'Electronics', 'Clothing', 'Furniture']\n",
    "sales = [250, 180, 210, 300]\n",
    "\n",
    "# Colors for bars\n",
    "colors = ['yellow', 'green', 'orange', 'blue']\n",
    "\n",
    "# Plot\n",
    "plt.bar(categories, sales, color=colors)\n",
    "\n",
    "# Title and labels\n",
    "plt.title('Sales by Products')\n",
    "plt.xlabel('Categories')\n",
    "plt.ylabel('Sales (in thousands of dollars)')\n",
    "\n",
    "# plot\n",
    "plt.show()"
   ]
  },
  {
   "cell_type": "markdown",
   "metadata": {},
   "source": [
    "### Exercise 5: (10 points)\n",
    "<span  style=\"color:purple; font-size:16px\">Create a pie chart to visualize the distribution of expenses in a monthly budget. Use the following expense categories and their corresponding values:\n",
    "\n",
    "    * Rent: $1200    * Groceries: $400    * Transportation: $250    * Entertainment: $150    * Utilities: $300\n",
    "    * Customize the pie chart by adding labels, percentages, and exploding a slice (e.g., \"Rent\") to highlight it.\n",
    "</span>"
   ]
  },
  {
   "cell_type": "code",
   "execution_count": 36,
   "metadata": {},
   "outputs": [
    {
     "data": {
      "image/png": "[encoded data removed]",
      "text/plain": [
       "<Figure size 576x432 with 1 Axes>"
      ]
     },
     "metadata": {},
     "output_type": "display_data"
    }
   ],
   "source": [
    "## Exercise Answer\n",
    "import matplotlib.pyplot as plt\n",
    "\n",
    "categories = ['Rent', 'Groceries', 'Transportation', 'Entertainment', 'Utilities']\n",
    "expenses = [1200, 400, 250, 150, 300]\n",
    "\n",
    "# Explode slice for 'Rent'\n",
    "explode = (0.1, 0, 0, 0, 0)  # explode 1st slice (Rent)\n",
    "\n",
    "# Plot\n",
    "plt.figure(figsize=(8, 6))\n",
    "plt.pie(expenses, labels=categories, explode=explode, autopct='%1.1f%%', startangle=140)\n",
    "\n",
    "# Title\n",
    "plt.title('Monthly Budget Expenses Distribution')\n",
    "\n",
    "# Equal aspect ratio ensures that pie is drawn as a circle\n",
    "plt.axis('equal')\n",
    "\n",
    "# Show plot\n",
    "plt.show()"
   ]
  },
  {
   "cell_type": "code",
   "execution_count": null,
   "metadata": {},
   "outputs": [],
   "source": []
  }
 ],
 "metadata": {
  "kernelspec": {
   "display_name": "Python 3 (ipykernel)",
   "language": "python",
   "name": "python3"
  },
  "language_info": {
   "codemirror_mode": {
    "name": "ipython",
    "version": 3
   },
   "file_extension": ".py",
   "mimetype": "text/x-python",
   "name": "python",
   "nbconvert_exporter": "python",
   "pygments_lexer": "ipython3",
   "version": "3.9.12"
  },
  "toc": {
   "base_numbering": 1,
   "nav_menu": {},
   "number_sections": false,
   "sideBar": false,
   "skip_h1_title": false,
   "title_cell": "Table of Contents",
   "title_sidebar": "Contents",
   "toc_cell": false,
   "toc_position": {},
   "toc_section_display": false,
   "toc_window_display": false
  }
 },
 "nbformat": 4,
 "nbformat_minor": 2
}
